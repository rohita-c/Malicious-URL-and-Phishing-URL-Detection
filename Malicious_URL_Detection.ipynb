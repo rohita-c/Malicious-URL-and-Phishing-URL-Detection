{
  "nbformat": 4,
  "nbformat_minor": 0,
  "metadata": {
    "colab": {
      "provenance": []
    },
    "kernelspec": {
      "name": "python3",
      "display_name": "Python 3"
    },
    "language_info": {
      "name": "python"
    }
  },
  "cells": [
    {
      "cell_type": "code",
      "execution_count": 16,
      "metadata": {
        "id": "cPUfFrI8blCf"
      },
      "outputs": [],
      "source": [
        "import pandas as pd \n",
        "import numpy as np\n",
        "import os\n",
        "from sklearn.model_selection import train_test_split\n",
        "from string import printable \n",
        "from keras.utils import pad_sequences\n",
        "import tensorflow as tf\n",
        "import json\n",
        "from tensorflow.keras.models import model_from_json\n",
        "from pathlib import Path\n",
        "import tensorflow as tf\n",
        "from keras.models import Model\n",
        "from keras import regularizers, Sequential\n",
        "from keras.layers import Dense, Dropout, Activation, Lambda, Flatten, Input, ELU, LSTM, Embedding, BatchNormalization, Conv1D, concatenate, MaxPooling1D\n",
        "from keras.preprocessing import sequence\n",
        "from keras.optimizers import Adam\n",
        "from keras.utils import np_utils\n",
        "from keras import backend as K\n",
        "from sklearn.preprocessing import LabelEncoder"
      ]
    },
    {
      "cell_type": "code",
      "source": [
        "def read_data():\n",
        "  df = pd.read_csv(\"malicious_phish.csv\")\n",
        "  url_int_tokens = [\n",
        "      [printable.index(x) + 1 for x in url if x in printable] for url in df.iloc[:, 0]\n",
        "  ]\n",
        "\n",
        "  max_len = 75\n",
        "  X = pad_sequences(url_int_tokens, maxlen=max_len)\n",
        "  le1 = LabelEncoder()\n",
        "\n",
        "  df['type'] = le1.fit_transform(df['type'])\n",
        "  target = np.array(df['type'])\n",
        "  x_train, x_test, target_train, target_test = train_test_split(X, target, test_size=0.25, random_state=42)\n",
        "\n",
        "  return x_train, x_test, target_train, target_test\n"
      ],
      "metadata": {
        "id": "YGMnptVzbzJl"
      },
      "execution_count": 3,
      "outputs": []
    },
    {
      "cell_type": "code",
      "source": [
        "x_train, x_test, target_train, target_test = read_data()"
      ],
      "metadata": {
        "id": "-pETFqc3eInB",
        "colab": {
          "base_uri": "https://localhost:8080/"
        },
        "outputId": "e9440aaf-f8a7-42a9-fc11-e34de7d8c047"
      },
      "execution_count": 6,
      "outputs": [
        {
          "output_type": "execute_result",
          "data": {
            "text/plain": [
              "array([3, 0, 0, ..., 1, 0, 0])"
            ]
          },
          "metadata": {},
          "execution_count": 6
        }
      ]
    },
    {
      "cell_type": "code",
      "source": [
        "max_len = 75\n",
        "emb_dim = 32\n",
        "max_vocab_len = 101\n",
        "lstm_output_size = 32\n",
        "W_reg = regularizers.l2(1e-4)\n",
        "epochs_num = 10\n",
        "batch_size = 32"
      ],
      "metadata": {
        "id": "Xb_dZ0R5eNFQ"
      },
      "execution_count": 5,
      "outputs": []
    },
    {
      "cell_type": "code",
      "source": [
        "def save_model(model, fileModelJSON, fileWeights):\n",
        "  if Path(fileModelJSON).is_file():\n",
        "        os.remove(fileModelJSON)\n",
        "  json_string = model.to_json()\n",
        "  with open(fileModelJSON, 'w') as f:\n",
        "      json.dump(json_string, f)\n",
        "\n",
        "  if Path(fileWeights).is_file():\n",
        "      os.remove(fileWeights)\n",
        "  model.save_weights(fileWeights)\n",
        "\n",
        "\n",
        "def load_model(fileModelJSON, fileWeights):\n",
        "    with open(fileModelJSON, 'r') as f:\n",
        "        model_json = json.load(f)\n",
        "        model = model_from_json(model_json)\n",
        "\n",
        "    model.load_weights(fileWeights)\n",
        "    return model"
      ],
      "metadata": {
        "id": "jNdcz5fbh_w5"
      },
      "execution_count": null,
      "outputs": []
    },
    {
      "cell_type": "markdown",
      "source": [
        "# CNN"
      ],
      "metadata": {
        "id": "1jKuSJ3BFJ-F"
      }
    },
    {
      "cell_type": "code",
      "source": [
        "model1 = Sequential()\n",
        "model1.add(Embedding(input_dim=max_vocab_len, output_dim=emb_dim, input_length=max_len, embeddings_regularizer=W_reg))\n",
        "model1.add(Conv1D(kernel_size=2, filters=256, padding='same', activation='elu'))\n",
        "model1.add(Conv1D(kernel_size=3, filters=256, padding='same', activation='elu'))\n",
        "model1.add(Conv1D(kernel_size=4, filters=256, padding='same', activation='elu'))\n",
        "model1.add(Conv1D(kernel_size=5, filters=256, padding='same', activation='elu'))\n",
        "model1.add(Dense(1024))\n",
        "model1.add(ELU())\n",
        "model1.add(BatchNormalization())\n",
        "model1.add(Dense(1024))\n",
        "model1.add(ELU())\n",
        "model1.add(BatchNormalization())\n",
        "model1.add(Dense(1, activation='sigmoid'))\n",
        "\n",
        "model1.compile(optimizer='adam', loss='binary_crossentropy', metrics=['accuracy'])\n",
        "y_train = np.asarray(target_train).astype('float32').reshape((-1,1))\n",
        "y_test = np.asarray(target_test).astype('float32').reshape((-1, 1))\n",
        "model1.fit(x_train, y_train, epochs=epochs_num, batch_size=batch_size)\n"
      ],
      "metadata": {
        "colab": {
          "base_uri": "https://localhost:8080/"
        },
        "id": "QMt0AgWXECdr",
        "outputId": "c03383ae-203d-44f7-ec84-418eec5d445f"
      },
      "execution_count": 15,
      "outputs": [
        {
          "output_type": "stream",
          "name": "stdout",
          "text": [
            "Epoch 1/10\n",
            "15263/15263 [==============================] - 294s 19ms/step - loss: -0.4483 - accuracy: 0.4130\n",
            "Epoch 2/10\n",
            "15263/15263 [==============================] - 261s 17ms/step - loss: -0.8669 - accuracy: 0.4794\n",
            "Epoch 3/10\n",
            "15263/15263 [==============================] - 258s 17ms/step - loss: -1.0284 - accuracy: 0.4931\n",
            "Epoch 4/10\n",
            "15263/15263 [==============================] - 261s 17ms/step - loss: -1.1228 - accuracy: 0.4973\n",
            "Epoch 5/10\n",
            "15263/15263 [==============================] - 262s 17ms/step - loss: -1.2106 - accuracy: 0.5066\n",
            "Epoch 6/10\n",
            "15263/15263 [==============================] - 257s 17ms/step - loss: -1.2736 - accuracy: 0.5120\n",
            "Epoch 7/10\n",
            "15263/15263 [==============================] - 248s 16ms/step - loss: -1.3224 - accuracy: 0.5168\n",
            "Epoch 8/10\n",
            "15263/15263 [==============================] - 248s 16ms/step - loss: -1.3636 - accuracy: 0.5201\n",
            "Epoch 9/10\n",
            "15263/15263 [==============================] - 249s 16ms/step - loss: -1.4059 - accuracy: 0.5235\n",
            "Epoch 10/10\n",
            "15263/15263 [==============================] - 247s 16ms/step - loss: -1.4365 - accuracy: 0.5261\n"
          ]
        },
        {
          "output_type": "execute_result",
          "data": {
            "text/plain": [
              "<keras.callbacks.History at 0x7f7e0a613d10>"
            ]
          },
          "metadata": {},
          "execution_count": 15
        }
      ]
    },
    {
      "cell_type": "code",
      "source": [
        "loss, accuracy = model1.evaluate(x_test, y_test, verbose=0)\n",
        "print(\"Final cross validation accuracy =\", accuracy)"
      ],
      "metadata": {
        "colab": {
          "base_uri": "https://localhost:8080/"
        },
        "id": "ncnxXlUkHiFJ",
        "outputId": "cd923f9c-da91-4eef-96ed-2a2446e2b8bf"
      },
      "execution_count": 17,
      "outputs": [
        {
          "output_type": "stream",
          "name": "stdout",
          "text": [
            "Final cross validation accuracy = 0.4807218313217163\n"
          ]
        }
      ]
    },
    {
      "cell_type": "markdown",
      "source": [
        "# Convolutional LSTM"
      ],
      "metadata": {
        "id": "bUBv13bwDmu7"
      }
    },
    {
      "cell_type": "code",
      "source": [
        "model2 = Sequential()\n",
        "model2.add(Embedding(input_dim=max_vocab_len, output_dim=emb_dim, input_length=max_len, embeddings_regularizer=W_reg))\n",
        "model2.add(Conv1D(kernel_size=5, filters=256, padding='same', activation='elu'))\n",
        "model2.add(MaxPooling1D(pool_size=4))\n",
        "model2.add(Dropout(0.5))\n",
        "model2.add(LSTM(lstm_output_size))\n",
        "model2.add(Dropout(0.5))\n",
        "model2.add(Dense(1, activation='sigmoid'))\n",
        "\n",
        "model2.compile(optimizer='adam', loss='binary_crossentropy', metrics=['accuracy'])\n",
        "model2.fit(x_train, target_train, epochs=epochs_num, batch_size=batch_size)"
      ],
      "metadata": {
        "colab": {
          "base_uri": "https://localhost:8080/"
        },
        "id": "TkCZB5xHB8xv",
        "outputId": "807f1d29-112d-419d-b673-4df76c2f5524"
      },
      "execution_count": 18,
      "outputs": [
        {
          "output_type": "stream",
          "name": "stdout",
          "text": [
            "Epoch 1/10\n",
            "15263/15263 [==============================] - 89s 6ms/step - loss: -47.5746 - accuracy: 0.6221\n",
            "Epoch 2/10\n",
            "15263/15263 [==============================] - 85s 6ms/step - loss: -148.1568 - accuracy: 0.6199\n",
            "Epoch 3/10\n",
            "15263/15263 [==============================] - 85s 6ms/step - loss: -251.0025 - accuracy: 0.6222\n",
            "Epoch 4/10\n",
            "15263/15263 [==============================] - 86s 6ms/step - loss: -354.5500 - accuracy: 0.6232\n",
            "Epoch 5/10\n",
            "15263/15263 [==============================] - 86s 6ms/step - loss: -459.5931 - accuracy: 0.6241\n",
            "Epoch 6/10\n",
            "15263/15263 [==============================] - 93s 6ms/step - loss: -559.8657 - accuracy: 0.6254\n",
            "Epoch 7/10\n",
            "15263/15263 [==============================] - 102s 7ms/step - loss: -667.5125 - accuracy: 0.6270\n",
            "Epoch 8/10\n",
            "15263/15263 [==============================] - 98s 6ms/step - loss: -770.2989 - accuracy: 0.6283\n",
            "Epoch 9/10\n",
            "15263/15263 [==============================] - 97s 6ms/step - loss: -873.0135 - accuracy: 0.6269\n",
            "Epoch 10/10\n",
            "15263/15263 [==============================] - 95s 6ms/step - loss: -971.2258 - accuracy: 0.6212\n"
          ]
        },
        {
          "output_type": "execute_result",
          "data": {
            "text/plain": [
              "<keras.callbacks.History at 0x7f7e0a0d8f90>"
            ]
          },
          "metadata": {},
          "execution_count": 18
        }
      ]
    },
    {
      "cell_type": "code",
      "source": [
        "loss, accuracy = model2.evaluate(x_test, y_test, verbose=0)\n",
        "print(\"Final cross validation accuracy =\", accuracy)"
      ],
      "metadata": {
        "colab": {
          "base_uri": "https://localhost:8080/"
        },
        "id": "oeLg4KyeImKi",
        "outputId": "f96466bd-4384-49c0-fabb-f12171c82c59"
      },
      "execution_count": 19,
      "outputs": [
        {
          "output_type": "stream",
          "name": "stdout",
          "text": [
            "Final cross validation accuracy = 0.6768940687179565\n"
          ]
        }
      ]
    },
    {
      "cell_type": "markdown",
      "source": [
        "# Simple LSTM"
      ],
      "metadata": {
        "id": "nrb3i7dwE4Ce"
      }
    },
    {
      "cell_type": "code",
      "source": [
        "model3 = Sequential()\n",
        "model3.add(Embedding(input_dim=max_vocab_len, output_dim=emb_dim, input_length=max_len, embeddings_regularizer=W_reg))\n",
        "model3.add(LSTM(lstm_output_size))\n",
        "model3.add(Dense(1, activation='sigmoid'))\n",
        "\n",
        "print(model3.summary())"
      ],
      "metadata": {
        "id": "L2_XQP1gjim0",
        "colab": {
          "base_uri": "https://localhost:8080/"
        },
        "outputId": "320a675b-aeb4-40f5-83ef-8f96367d7cf9"
      },
      "execution_count": null,
      "outputs": [
        {
          "output_type": "stream",
          "name": "stdout",
          "text": [
            "Model: \"sequential\"\n",
            "_________________________________________________________________\n",
            " Layer (type)                Output Shape              Param #   \n",
            "=================================================================\n",
            " embedding_2 (Embedding)     (None, 75, 32)            3232      \n",
            "                                                                 \n",
            " lstm_2 (LSTM)               (None, 32)                8320      \n",
            "                                                                 \n",
            " dense (Dense)               (None, 1)                 33        \n",
            "                                                                 \n",
            "=================================================================\n",
            "Total params: 11,585\n",
            "Trainable params: 11,585\n",
            "Non-trainable params: 0\n",
            "_________________________________________________________________\n",
            "None\n"
          ]
        }
      ]
    },
    {
      "cell_type": "code",
      "source": [
        "model3.compile(loss='binary_crossentropy', optimizer='adam', metrics=['accuracy'])"
      ],
      "metadata": {
        "id": "_cWE2wUWzgEk"
      },
      "execution_count": null,
      "outputs": []
    },
    {
      "cell_type": "code",
      "source": [
        "x_valid, y_valid = x_train[:batch_size], target_train[:batch_size]\n",
        "x_train2, y_train2 = x_train[batch_size:], target_train[batch_size:]\n",
        "model3.fit(x_train2, y_train2, validation_data=(x_valid, y_valid), batch_size=batch_size, epochs=epochs_num)"
      ],
      "metadata": {
        "colab": {
          "base_uri": "https://localhost:8080/"
        },
        "id": "F3Xy0LP50Cyb",
        "outputId": "8bd4cb50-7d08-42c3-ef02-8599d5b8d268"
      },
      "execution_count": null,
      "outputs": [
        {
          "output_type": "stream",
          "name": "stdout",
          "text": [
            "Epoch 1/10\n",
            "15262/15262 [==============================] - 95s 6ms/step - loss: -15.7385 - accuracy: 0.5644 - val_loss: -43.6021 - val_accuracy: 0.6562\n",
            "Epoch 2/10\n",
            "15262/15262 [==============================] - 93s 6ms/step - loss: -97.6877 - accuracy: 0.6403 - val_loss: -132.8496 - val_accuracy: 0.5938\n",
            "Epoch 3/10\n",
            "15262/15262 [==============================] - 94s 6ms/step - loss: -205.5326 - accuracy: 0.6586 - val_loss: -193.5416 - val_accuracy: 0.6562\n",
            "Epoch 4/10\n",
            "15262/15262 [==============================] - 93s 6ms/step - loss: -309.2408 - accuracy: 0.6837 - val_loss: -298.3667 - val_accuracy: 0.6875\n",
            "Epoch 5/10\n",
            "15262/15262 [==============================] - 92s 6ms/step - loss: -411.1554 - accuracy: 0.6835 - val_loss: -382.7057 - val_accuracy: 0.7812\n",
            "Epoch 6/10\n",
            "15262/15262 [==============================] - 93s 6ms/step - loss: -501.7339 - accuracy: 0.6663 - val_loss: -467.4328 - val_accuracy: 0.7188\n",
            "Epoch 7/10\n",
            "15262/15262 [==============================] - 96s 6ms/step - loss: -622.1306 - accuracy: 0.6710 - val_loss: -487.7188 - val_accuracy: 0.7188\n",
            "Epoch 8/10\n",
            "15262/15262 [==============================] - 92s 6ms/step - loss: -737.4807 - accuracy: 0.6771 - val_loss: -823.3483 - val_accuracy: 0.6562\n",
            "Epoch 9/10\n",
            "15262/15262 [==============================] - 113s 7ms/step - loss: -813.1235 - accuracy: 0.6572 - val_loss: -691.8895 - val_accuracy: 0.7188\n",
            "Epoch 10/10\n",
            "15262/15262 [==============================] - 101s 7ms/step - loss: -940.8181 - accuracy: 0.6544 - val_loss: -737.4906 - val_accuracy: 0.7188\n"
          ]
        },
        {
          "output_type": "execute_result",
          "data": {
            "text/plain": [
              "<keras.callbacks.History at 0x7fe3b2d9c0d0>"
            ]
          },
          "metadata": {},
          "execution_count": 16
        }
      ]
    },
    {
      "cell_type": "code",
      "source": [
        "loss, accuracy = model1.evaluate(x_test, target_test, verbose=0)\n",
        "print(\"Final cross validation accuracy =\", accuracy)"
      ],
      "metadata": {
        "colab": {
          "base_uri": "https://localhost:8080/"
        },
        "id": "8ELzTmfs0Umr",
        "outputId": "dde0eb14-811a-4278-f4f9-17376164c2c5"
      },
      "execution_count": null,
      "outputs": [
        {
          "output_type": "stream",
          "name": "stdout",
          "text": [
            "Final cross validation accuracy = 0.7038599848747253\n"
          ]
        }
      ]
    }
  ]
}