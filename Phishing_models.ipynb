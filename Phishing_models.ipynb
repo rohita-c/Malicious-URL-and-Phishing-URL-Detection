{
  "nbformat": 4,
  "nbformat_minor": 0,
  "metadata": {
    "colab": {
      "provenance": [],
      "collapsed_sections": []
    },
    "kernelspec": {
      "name": "python3",
      "display_name": "Python 3"
    },
    "language_info": {
      "name": "python"
    }
  },
  "cells": [
    {
      "cell_type": "code",
      "execution_count": 1,
      "metadata": {
        "id": "TstlLk0gf9dl"
      },
      "outputs": [],
      "source": [
        "import pandas as pd \n",
        "import numpy as np\n",
        "import os\n",
        "from sklearn.model_selection import train_test_split\n",
        "from string import printable \n",
        "from keras.utils import pad_sequences\n",
        "import tensorflow as tf\n",
        "import json\n",
        "from tensorflow.keras.models import model_from_json\n",
        "from pathlib import Path\n",
        "import tensorflow as tf\n",
        "from keras.models import Model\n",
        "from keras import regularizers, Sequential\n",
        "from keras.layers import Dense, Dropout, Activation, Lambda, Flatten, Input, ELU, LSTM, Embedding, BatchNormalization, Conv1D, concatenate, MaxPooling1D\n",
        "from keras.preprocessing import sequence\n",
        "from keras.optimizers import Adam\n",
        "from keras.utils import np_utils\n",
        "from keras import backend as K\n",
        "from sklearn.preprocessing import LabelEncoder"
      ]
    },
    {
      "cell_type": "code",
      "source": [
        "def read_data():\n",
        "  df = pd.read_csv(\"Phishing_dataset.csv\")\n",
        "  df.drop(df.columns[0], axis=1, inplace=True)\n",
        "  url_int_tokens = [\n",
        "      [printable.index(x) + 1 for x in url if x in printable] for url in df.iloc[:, 0]\n",
        "  ]\n",
        "\n",
        "  max_len = 75\n",
        "  X = pad_sequences(url_int_tokens, maxlen=max_len)\n",
        "  le1 = LabelEncoder()\n",
        "\n",
        "  df['Label'] = le1.fit_transform(df['Label'])\n",
        "  target = np.array(df['Label'])\n",
        "  x_train, x_test, target_train, target_test = train_test_split(X, target, test_size=0.25, random_state=42)\n",
        "\n",
        "  return x_train, x_test, target_train, target_test\n"
      ],
      "metadata": {
        "id": "OMc-rt6LgCnK"
      },
      "execution_count": 5,
      "outputs": []
    },
    {
      "cell_type": "code",
      "source": [
        "x_train, x_test, target_train, target_test = read_data()"
      ],
      "metadata": {
        "id": "NX6a2kZHgTtz"
      },
      "execution_count": 6,
      "outputs": []
    },
    {
      "cell_type": "code",
      "source": [
        "max_len = 75\n",
        "emb_dim = 32\n",
        "max_vocab_len = 101\n",
        "lstm_output_size = 32\n",
        "W_reg = regularizers.l2(1e-4)\n",
        "epochs_num = 10\n",
        "batch_size = 32"
      ],
      "metadata": {
        "id": "VxzkmJothBiZ"
      },
      "execution_count": 8,
      "outputs": []
    },
    {
      "cell_type": "code",
      "source": [
        "def save_model(model, fileModelJSON, fileWeights):\n",
        "  if Path(fileModelJSON).is_file():\n",
        "        os.remove(fileModelJSON)\n",
        "  json_string = model.to_json()\n",
        "  with open(fileModelJSON, 'w') as f:\n",
        "      json.dump(json_string, f)\n",
        "\n",
        "  if Path(fileWeights).is_file():\n",
        "      os.remove(fileWeights)\n",
        "  model.save_weights(fileWeights)\n",
        "\n",
        "\n",
        "def load_model(fileModelJSON, fileWeights):\n",
        "    with open(fileModelJSON, 'r') as f:\n",
        "        model_json = json.load(f)\n",
        "        model = model_from_json(model_json)\n",
        "\n",
        "    model.load_weights(fileWeights)\n",
        "    return model"
      ],
      "metadata": {
        "id": "Kr4v1NDKhHWy"
      },
      "execution_count": 9,
      "outputs": []
    },
    {
      "cell_type": "markdown",
      "source": [
        "# CNN"
      ],
      "metadata": {
        "id": "lTYyyiXGpQTh"
      }
    },
    {
      "cell_type": "code",
      "source": [
        "model1 = Sequential()\n",
        "model1.add(Embedding(input_dim=max_vocab_len, output_dim=emb_dim, input_length=max_len, embeddings_regularizer=W_reg))\n",
        "model1.add(Conv1D(kernel_size=2, filters=256, padding='same', activation='elu'))\n",
        "model1.add(Conv1D(kernel_size=3, filters=256, padding='same', activation='elu'))\n",
        "model1.add(Conv1D(kernel_size=4, filters=256, padding='same', activation='elu'))\n",
        "model1.add(Conv1D(kernel_size=5, filters=256, padding='same', activation='elu'))\n",
        "model1.add(Dense(1024))\n",
        "model1.add(ELU())\n",
        "model1.add(BatchNormalization())\n",
        "model1.add(Dense(1024))\n",
        "model1.add(ELU())\n",
        "model1.add(BatchNormalization())\n",
        "model1.add(Dense(1, activation='sigmoid'))\n",
        "\n",
        "model1.compile(optimizer='adam', loss='binary_crossentropy', metrics=['accuracy'])\n",
        "y_train = np.asarray(target_train).astype('float32').reshape((-1,1))\n",
        "y_test = np.asarray(target_test).astype('float32').reshape((-1, 1))\n",
        "model1.fit(x_train, y_train, epochs=epochs_num, batch_size=batch_size)"
      ],
      "metadata": {
        "colab": {
          "base_uri": "https://localhost:8080/"
        },
        "id": "mDrKW6dJhMV9",
        "outputId": "4a06cd0e-5645-4cff-ffd8-f682be4a3497"
      },
      "execution_count": 10,
      "outputs": [
        {
          "output_type": "stream",
          "name": "stdout",
          "text": [
            "Epoch 1/10\n",
            "235/235 [==============================] - 184s 773ms/step - loss: 0.7481 - accuracy: 0.5539\n",
            "Epoch 2/10\n",
            "235/235 [==============================] - 177s 752ms/step - loss: 0.6616 - accuracy: 0.5636\n",
            "Epoch 3/10\n",
            "235/235 [==============================] - 178s 758ms/step - loss: 0.6561 - accuracy: 0.5748\n",
            "Epoch 4/10\n",
            "235/235 [==============================] - 190s 808ms/step - loss: 0.6542 - accuracy: 0.5714\n",
            "Epoch 5/10\n",
            "235/235 [==============================] - 178s 756ms/step - loss: 0.6524 - accuracy: 0.5804\n",
            "Epoch 6/10\n",
            "235/235 [==============================] - 177s 752ms/step - loss: 0.6516 - accuracy: 0.5707\n",
            "Epoch 7/10\n",
            "235/235 [==============================] - 177s 753ms/step - loss: 0.6465 - accuracy: 0.5763\n",
            "Epoch 8/10\n",
            "235/235 [==============================] - 177s 755ms/step - loss: 0.6444 - accuracy: 0.5747\n",
            "Epoch 9/10\n",
            "235/235 [==============================] - 178s 756ms/step - loss: 0.6415 - accuracy: 0.5842\n",
            "Epoch 10/10\n",
            "235/235 [==============================] - 177s 754ms/step - loss: 0.6340 - accuracy: 0.5869\n"
          ]
        },
        {
          "output_type": "execute_result",
          "data": {
            "text/plain": [
              "<keras.callbacks.History at 0x7fdddf351b90>"
            ]
          },
          "metadata": {},
          "execution_count": 10
        }
      ]
    },
    {
      "cell_type": "code",
      "source": [
        "loss, accuracy = model1.evaluate(x_test, y_test, verbose=0)\n",
        "print(\"Final cross validation accuracy =\", accuracy)"
      ],
      "metadata": {
        "colab": {
          "base_uri": "https://localhost:8080/"
        },
        "id": "X_GWX1DGhQ5e",
        "outputId": "79fcddd3-7d24-4795-9c89-8b80298a03fa"
      },
      "execution_count": 11,
      "outputs": [
        {
          "output_type": "stream",
          "name": "stdout",
          "text": [
            "Final cross validation accuracy = 0.6055307388305664\n"
          ]
        }
      ]
    },
    {
      "cell_type": "markdown",
      "source": [
        "# Convolutional LSTM"
      ],
      "metadata": {
        "id": "olWYbEb9pTlh"
      }
    },
    {
      "cell_type": "code",
      "source": [
        "model2 = Sequential()\n",
        "model2.add(Embedding(input_dim=max_vocab_len, output_dim=emb_dim, input_length=max_len, embeddings_regularizer=W_reg))\n",
        "model2.add(Conv1D(kernel_size=5, filters=256, padding='same', activation='elu'))\n",
        "model2.add(MaxPooling1D(pool_size=4))\n",
        "model2.add(Dropout(0.5))\n",
        "model2.add(LSTM(lstm_output_size))\n",
        "model2.add(Dropout(0.5))\n",
        "model2.add(Dense(1, activation='sigmoid'))\n",
        "\n",
        "model2.compile(optimizer='adam', loss='binary_crossentropy', metrics=['accuracy'])\n",
        "model2.fit(x_train, target_train, epochs=epochs_num, batch_size=batch_size)"
      ],
      "metadata": {
        "colab": {
          "base_uri": "https://localhost:8080/"
        },
        "id": "K8yIVDADjfoi",
        "outputId": "a8339698-8cd4-44fb-b331-82f640362c2d"
      },
      "execution_count": 12,
      "outputs": [
        {
          "output_type": "stream",
          "name": "stdout",
          "text": [
            "Epoch 1/10\n",
            "235/235 [==============================] - 13s 42ms/step - loss: 0.4720 - accuracy: 0.7788\n",
            "Epoch 2/10\n",
            "235/235 [==============================] - 10s 42ms/step - loss: 0.3059 - accuracy: 0.8699\n",
            "Epoch 3/10\n",
            "235/235 [==============================] - 11s 45ms/step - loss: 0.1856 - accuracy: 0.9275\n",
            "Epoch 4/10\n",
            "235/235 [==============================] - 10s 44ms/step - loss: 0.1343 - accuracy: 0.9523\n",
            "Epoch 5/10\n",
            "235/235 [==============================] - 10s 43ms/step - loss: 0.0986 - accuracy: 0.9675\n",
            "Epoch 6/10\n",
            "235/235 [==============================] - 10s 42ms/step - loss: 0.0756 - accuracy: 0.9741\n",
            "Epoch 7/10\n",
            "235/235 [==============================] - 10s 42ms/step - loss: 0.0591 - accuracy: 0.9800\n",
            "Epoch 8/10\n",
            "235/235 [==============================] - 10s 42ms/step - loss: 0.0596 - accuracy: 0.9796\n",
            "Epoch 9/10\n",
            "235/235 [==============================] - 10s 42ms/step - loss: 0.0529 - accuracy: 0.9815\n",
            "Epoch 10/10\n",
            "235/235 [==============================] - 10s 42ms/step - loss: 0.0451 - accuracy: 0.9856\n"
          ]
        },
        {
          "output_type": "execute_result",
          "data": {
            "text/plain": [
              "<keras.callbacks.History at 0x7fdddf06d1d0>"
            ]
          },
          "metadata": {},
          "execution_count": 12
        }
      ]
    },
    {
      "cell_type": "code",
      "source": [
        "loss, accuracy = model2.evaluate(x_test, y_test, verbose=0)\n",
        "print(\"Final cross validation accuracy =\", accuracy)"
      ],
      "metadata": {
        "colab": {
          "base_uri": "https://localhost:8080/"
        },
        "id": "0p-xgZqwjhn6",
        "outputId": "4ff98cee-27d0-4b4d-eca4-24b2160e1952"
      },
      "execution_count": 13,
      "outputs": [
        {
          "output_type": "stream",
          "name": "stdout",
          "text": [
            "Final cross validation accuracy = 0.9819999933242798\n"
          ]
        }
      ]
    },
    {
      "cell_type": "markdown",
      "source": [
        "# Simple LSTM"
      ],
      "metadata": {
        "id": "bfxzVCPypcFP"
      }
    },
    {
      "cell_type": "code",
      "source": [
        "model3 = Sequential()\n",
        "model3.add(Embedding(input_dim=max_vocab_len, output_dim=emb_dim, input_length=max_len, embeddings_regularizer=W_reg))\n",
        "model3.add(LSTM(lstm_output_size))\n",
        "model3.add(Dense(1, activation='sigmoid'))\n",
        "\n",
        "print(model3.summary())"
      ],
      "metadata": {
        "colab": {
          "base_uri": "https://localhost:8080/"
        },
        "id": "GkNuPt-sjkPa",
        "outputId": "b8c47806-ec3f-436a-93f0-98e3aa7d021a"
      },
      "execution_count": 14,
      "outputs": [
        {
          "output_type": "stream",
          "name": "stdout",
          "text": [
            "Model: \"sequential_2\"\n",
            "_________________________________________________________________\n",
            " Layer (type)                Output Shape              Param #   \n",
            "=================================================================\n",
            " embedding_2 (Embedding)     (None, 75, 32)            3232      \n",
            "                                                                 \n",
            " lstm_1 (LSTM)               (None, 32)                8320      \n",
            "                                                                 \n",
            " dense_4 (Dense)             (None, 1)                 33        \n",
            "                                                                 \n",
            "=================================================================\n",
            "Total params: 11,585\n",
            "Trainable params: 11,585\n",
            "Non-trainable params: 0\n",
            "_________________________________________________________________\n",
            "None\n"
          ]
        }
      ]
    },
    {
      "cell_type": "code",
      "source": [
        "model3.compile(loss='binary_crossentropy', optimizer='adam', metrics=['accuracy'])\n",
        "x_valid, y_valid = x_train[:batch_size], target_train[:batch_size]\n",
        "x_train2, y_train2 = x_train[batch_size:], target_train[batch_size:]\n",
        "model3.fit(x_train2, y_train2, validation_data=(x_valid, y_valid), batch_size=batch_size, epochs=epochs_num)"
      ],
      "metadata": {
        "colab": {
          "base_uri": "https://localhost:8080/"
        },
        "id": "Md4mybC3jo07",
        "outputId": "ea1df472-6dbb-48d9-d066-14f780ec44d4"
      },
      "execution_count": 15,
      "outputs": [
        {
          "output_type": "stream",
          "name": "stdout",
          "text": [
            "Epoch 1/10\n",
            "234/234 [==============================] - 12s 37ms/step - loss: 0.5001 - accuracy: 0.7491 - val_loss: 0.3636 - val_accuracy: 0.8438\n",
            "Epoch 2/10\n",
            "234/234 [==============================] - 9s 39ms/step - loss: 0.4209 - accuracy: 0.7939 - val_loss: 0.3380 - val_accuracy: 0.8750\n",
            "Epoch 3/10\n",
            "234/234 [==============================] - 11s 48ms/step - loss: 0.3957 - accuracy: 0.8148 - val_loss: 0.3029 - val_accuracy: 0.8750\n",
            "Epoch 4/10\n",
            "234/234 [==============================] - 8s 34ms/step - loss: 0.3751 - accuracy: 0.8352 - val_loss: 0.3071 - val_accuracy: 0.9062\n",
            "Epoch 5/10\n",
            "234/234 [==============================] - 8s 34ms/step - loss: 0.3503 - accuracy: 0.8531 - val_loss: 0.2348 - val_accuracy: 0.9375\n",
            "Epoch 6/10\n",
            "234/234 [==============================] - 8s 34ms/step - loss: 0.3356 - accuracy: 0.8610 - val_loss: 0.2376 - val_accuracy: 0.9375\n",
            "Epoch 7/10\n",
            "234/234 [==============================] - 8s 34ms/step - loss: 0.3291 - accuracy: 0.8634 - val_loss: 0.2279 - val_accuracy: 0.9375\n",
            "Epoch 8/10\n",
            "234/234 [==============================] - 8s 34ms/step - loss: 0.3131 - accuracy: 0.8725 - val_loss: 0.2245 - val_accuracy: 0.9375\n",
            "Epoch 9/10\n",
            "234/234 [==============================] - 8s 34ms/step - loss: 0.3067 - accuracy: 0.8763 - val_loss: 0.2373 - val_accuracy: 0.9375\n",
            "Epoch 10/10\n",
            "234/234 [==============================] - 8s 34ms/step - loss: 0.2992 - accuracy: 0.8838 - val_loss: 0.2260 - val_accuracy: 0.9375\n"
          ]
        },
        {
          "output_type": "execute_result",
          "data": {
            "text/plain": [
              "<keras.callbacks.History at 0x7fddda8ca8d0>"
            ]
          },
          "metadata": {},
          "execution_count": 15
        }
      ]
    },
    {
      "cell_type": "code",
      "source": [
        "loss, accuracy = model3.evaluate(x_test, target_test, verbose=0)\n",
        "print(\"Final cross validation accuracy =\", accuracy)"
      ],
      "metadata": {
        "colab": {
          "base_uri": "https://localhost:8080/"
        },
        "id": "6mVwwxKIjuS6",
        "outputId": "d76fd068-09a8-41a6-b526-9d26ab050259"
      },
      "execution_count": 16,
      "outputs": [
        {
          "output_type": "stream",
          "name": "stdout",
          "text": [
            "Final cross validation accuracy = 0.885200023651123\n"
          ]
        }
      ]
    }
  ]
}